{
 "cells": [
  {
   "cell_type": "markdown",
   "id": "7000f0b5-4c96-4a83-b61a-55862726c54c",
   "metadata": {},
   "source": [
    "## Test for Accessing Groovy/Bash Noise Propagation "
   ]
  },
  {
   "cell_type": "code",
   "execution_count": 58,
   "id": "bd02922f-4b6e-4eb4-aaa5-b6022f480c2c",
   "metadata": {},
   "outputs": [
    {
     "data": {
      "text/plain": [
       "'/Users/Isaiah/Documents/Dissertation/NoiseModelling/NoiseModelling_4.0.0_without_gui'"
      ]
     },
     "execution_count": 58,
     "metadata": {},
     "output_type": "execute_result"
    }
   ],
   "source": [
    "import os \n",
    "os.getcwd()"
   ]
  },
  {
   "cell_type": "code",
   "execution_count": 60,
   "id": "97fd7d28-8716-4506-89b2-5ff6677a6732",
   "metadata": {},
   "outputs": [
    {
     "data": {
      "text/plain": [
       "'/Users/Isaiah/Documents/Dissertation/NoiseModelling/NoiseModelling_4.0.0_without_gui'"
      ]
     },
     "execution_count": 60,
     "metadata": {},
     "output_type": "execute_result"
    }
   ],
   "source": [
    "os.getcwd()"
   ]
  },
  {
   "cell_type": "code",
   "execution_count": 61,
   "id": "0931cb31-4cd4-43fa-8451-9aa3c2e6fe9a",
   "metadata": {},
   "outputs": [],
   "source": [
    "import subprocess\n",
    "import os "
   ]
  },
  {
   "cell_type": "code",
   "execution_count": 97,
   "id": "0e7a9a7a-939a-4625-95c2-99a6c7defa18",
   "metadata": {},
   "outputs": [
    {
     "data": {
      "text/plain": [
       "'/Users/Isaiah/Documents/Dissertation/NoiseModelling/NoiseModelling_4.0.0_without_gui'"
      ]
     },
     "execution_count": 97,
     "metadata": {},
     "output_type": "execute_result"
    }
   ],
   "source": [
    "os.getcwd()"
   ]
  },
  {
   "cell_type": "code",
   "execution_count": 63,
   "id": "f83da29c-ae07-4fe6-aaeb-224cadf1c0b1",
   "metadata": {},
   "outputs": [
    {
     "data": {
      "text/plain": [
       "['get_started_tutorial.groovy',\n",
       " '.DS_Store',\n",
       " 'LICENSE',\n",
       " 'bin',\n",
       " 'h2gisdb.mv.db',\n",
       " 'resources',\n",
       " 'noisemodelling',\n",
       " 'README.md',\n",
       " 'get_started_tutorial.sh',\n",
       " 'test_buildings',\n",
       " 'lib']"
      ]
     },
     "execution_count": 63,
     "metadata": {},
     "output_type": "execute_result"
    }
   ],
   "source": [
    "os.listdir()"
   ]
  },
  {
   "cell_type": "code",
   "execution_count": 7,
   "id": "bc4d6c8e-9c67-4c96-9c2f-7591547cca7d",
   "metadata": {},
   "outputs": [
    {
     "data": {
      "text/plain": [
       "'/Users/Isaiah/Documents/Dissertation/NoiseModelling/NoiseModelling_4.0.0_without_gui'"
      ]
     },
     "execution_count": 7,
     "metadata": {},
     "output_type": "execute_result"
    }
   ],
   "source": [
    "os.getcwd()"
   ]
  },
  {
   "cell_type": "code",
   "execution_count": 2,
   "id": "a307993e-9a08-4227-927a-cf1a422ebee6",
   "metadata": {},
   "outputs": [
    {
     "name": "stdout",
     "output_type": "stream",
     "text": [
      "Command: ./bin/wps_scripts -w /Users/Isaiah/Documents/Dissertation/NoiseModelling/NoiseModelling_4.0.0_without_gui -s noisemodelling/wps/Import_and_Export/Import_File.groovy -pathFile resources/org/noise_planet/noisemodelling/wps/gg_buildings_clean.geojson\n",
      "Error executing command: ./bin/wps_scripts -w /Users/Isaiah/Documents/Dissertation/NoiseModelling/NoiseModelling_4.0.0_without_gui -s noisemodelling/wps/Import_and_Export/Import_File.groovy -pathFile resources/org/noise_planet/noisemodelling/wps/gg_buildings_clean.geojson\n",
      "/bin/sh: ./bin/wps_scripts: No such file or directory\n",
      "\n"
     ]
    }
   ],
   "source": [
    "import subprocess\n",
    "import os\n",
    "\n",
    "# Full paths (change if needed)\n",
    "workspace = \"/Users/Isaiah/Documents/Dissertation/NoiseModelling/NoiseModelling_4.0.0_without_gui\"\n",
    "groovy_script = \"noisemodelling/wps/Import_and_Export/Import_File.groovy\"\n",
    "geojson_file = \"resources/org/noise_planet/noisemodelling/wps/gg_buildings_clean.geojson\"\n",
    "\n",
    "# Prepare the command to run\n",
    "commands = f\"./bin/wps_scripts -w {workspace} -s {groovy_script} -pathFile {geojson_file}\"\n",
    "\n",
    "# Prepare the environment (optional)\n",
    "env = os.environ.copy()\n",
    "\n",
    "# Check the final command before execution\n",
    "print(f\"Command: {commands}\")\n",
    "\n",
    "# Run the command\n",
    "process = subprocess.Popen(commands, shell=True, stdout=subprocess.PIPE, stderr=subprocess.PIPE, env=env)\n",
    "stdout, stderr = process.communicate()\n",
    "\n",
    "# Check the result\n",
    "if process.returncode != 0:\n",
    "    print(f\"Error executing command: {commands}\")\n",
    "    print(stderr.decode())  # Print error details\n",
    "else:\n",
    "    print(f\"Command executed successfully: {commands}\")\n",
    "    print(stdout.decode())  # Print the output of the script"
   ]
  },
  {
   "cell_type": "markdown",
   "id": "22b377f9-1b89-4457-8778-d17a5432836a",
   "metadata": {},
   "source": [
    "## Renaming gg buildigns "
   ]
  },
  {
   "cell_type": "code",
   "execution_count": 81,
   "id": "cf1f6b2b-f896-4212-876c-363ae2351494",
   "metadata": {},
   "outputs": [],
   "source": [
    "file = \"test_buildings//BoundedFixedMergedGlasgowBuildings.shp\""
   ]
  },
  {
   "cell_type": "code",
   "execution_count": 82,
   "id": "bdd9b646-8e7b-4b68-95fa-d4c16007447d",
   "metadata": {},
   "outputs": [],
   "source": [
    "gdf = gpd.read_file(file)"
   ]
  },
  {
   "cell_type": "code",
   "execution_count": 83,
   "id": "04365811-a9c1-4b93-a951-e5fd591e946b",
   "metadata": {},
   "outputs": [],
   "source": [
    "gdf = gdf[['geometry', 'Ground_Z']]\n",
    "gdf = gdf.rename(columns={'geometry': 'THE_GEOM', 'Ground_Z': 'HEIGHT'})\n",
    "gdf['HEIGHT'] = gdf['HEIGHT'].astype('float64')\n",
    "gdf = gpd.GeoDataFrame(gdf, geometry='THE_GEOM')"
   ]
  },
  {
   "cell_type": "code",
   "execution_count": 98,
   "id": "cb324783-6233-4294-a61c-c178ad19381a",
   "metadata": {
    "scrolled": true
   },
   "outputs": [
    {
     "name": "stdout",
     "output_type": "stream",
     "text": [
      "THE_GEOM\n"
     ]
    }
   ],
   "source": [
    "print(gdf.geometry.name)  # Should print \"THE_GEOM\""
   ]
  },
  {
   "cell_type": "code",
   "execution_count": 88,
   "id": "6d27fe9b-bb17-415c-b42d-6c36c080a233",
   "metadata": {},
   "outputs": [
    {
     "data": {
      "text/html": [
       "<div>\n",
       "<style scoped>\n",
       "    .dataframe tbody tr th:only-of-type {\n",
       "        vertical-align: middle;\n",
       "    }\n",
       "\n",
       "    .dataframe tbody tr th {\n",
       "        vertical-align: top;\n",
       "    }\n",
       "\n",
       "    .dataframe thead th {\n",
       "        text-align: right;\n",
       "    }\n",
       "</style>\n",
       "<table border=\"1\" class=\"dataframe\">\n",
       "  <thead>\n",
       "    <tr style=\"text-align: right;\">\n",
       "      <th></th>\n",
       "      <th>THE_GEOM</th>\n",
       "      <th>HEIGHT</th>\n",
       "    </tr>\n",
       "  </thead>\n",
       "  <tbody>\n",
       "    <tr>\n",
       "      <th>0</th>\n",
       "      <td>POLYGON ((413903.742 6197943.405, 413915.337 6...</td>\n",
       "      <td>53.230999</td>\n",
       "    </tr>\n",
       "    <tr>\n",
       "      <th>1</th>\n",
       "      <td>POLYGON ((413896.970 6197937.647, 413894.443 6...</td>\n",
       "      <td>52.737000</td>\n",
       "    </tr>\n",
       "    <tr>\n",
       "      <th>2</th>\n",
       "      <td>POLYGON ((413923.773 6197933.140, 413931.476 6...</td>\n",
       "      <td>53.498001</td>\n",
       "    </tr>\n",
       "    <tr>\n",
       "      <th>3</th>\n",
       "      <td>POLYGON ((413890.934 6197903.011, 413880.681 6...</td>\n",
       "      <td>52.759998</td>\n",
       "    </tr>\n",
       "    <tr>\n",
       "      <th>4</th>\n",
       "      <td>POLYGON ((413813.305 6197900.695, 413796.388 6...</td>\n",
       "      <td>49.250000</td>\n",
       "    </tr>\n",
       "  </tbody>\n",
       "</table>\n",
       "</div>"
      ],
      "text/plain": [
       "                                            THE_GEOM     HEIGHT\n",
       "0  POLYGON ((413903.742 6197943.405, 413915.337 6...  53.230999\n",
       "1  POLYGON ((413896.970 6197937.647, 413894.443 6...  52.737000\n",
       "2  POLYGON ((413923.773 6197933.140, 413931.476 6...  53.498001\n",
       "3  POLYGON ((413890.934 6197903.011, 413880.681 6...  52.759998\n",
       "4  POLYGON ((413813.305 6197900.695, 413796.388 6...  49.250000"
      ]
     },
     "execution_count": 88,
     "metadata": {},
     "output_type": "execute_result"
    }
   ],
   "source": [
    "gdf.head()"
   ]
  },
  {
   "cell_type": "code",
   "execution_count": 99,
   "id": "382c0518-d684-4d1f-9e3d-070b89eacb36",
   "metadata": {},
   "outputs": [],
   "source": [
    "gdf.to_file(\"gg_buildings_clean.geojson\", driver=\"GeoJSON\")"
   ]
  },
  {
   "cell_type": "code",
   "execution_count": 87,
   "id": "97e0e2bf-4bb6-4a94-9bb2-33982c3af3e2",
   "metadata": {},
   "outputs": [
    {
     "data": {
      "text/plain": [
       "'/Users/Isaiah/Documents/Dissertation/NoiseModelling/NoiseModelling_4.0.0_without_gui'"
      ]
     },
     "execution_count": 87,
     "metadata": {},
     "output_type": "execute_result"
    }
   ],
   "source": [
    "os.getcwd()"
   ]
  },
  {
   "cell_type": "code",
   "execution_count": 92,
   "id": "1b80c6a5-c4be-491a-8349-4fc0037c709f",
   "metadata": {},
   "outputs": [
    {
     "data": {
      "text/html": [
       "<div>\n",
       "<style scoped>\n",
       "    .dataframe tbody tr th:only-of-type {\n",
       "        vertical-align: middle;\n",
       "    }\n",
       "\n",
       "    .dataframe tbody tr th {\n",
       "        vertical-align: top;\n",
       "    }\n",
       "\n",
       "    .dataframe thead th {\n",
       "        text-align: right;\n",
       "    }\n",
       "</style>\n",
       "<table border=\"1\" class=\"dataframe\">\n",
       "  <thead>\n",
       "    <tr style=\"text-align: right;\">\n",
       "      <th></th>\n",
       "      <th>HEIGHT</th>\n",
       "      <th>geometry</th>\n",
       "    </tr>\n",
       "  </thead>\n",
       "  <tbody>\n",
       "    <tr>\n",
       "      <th>0</th>\n",
       "      <td>53.230999</td>\n",
       "      <td>POLYGON ((413903.742 6197943.405, 413915.337 6...</td>\n",
       "    </tr>\n",
       "    <tr>\n",
       "      <th>1</th>\n",
       "      <td>52.737000</td>\n",
       "      <td>POLYGON ((413896.970 6197937.647, 413894.443 6...</td>\n",
       "    </tr>\n",
       "    <tr>\n",
       "      <th>2</th>\n",
       "      <td>53.498001</td>\n",
       "      <td>POLYGON ((413923.773 6197933.140, 413931.476 6...</td>\n",
       "    </tr>\n",
       "    <tr>\n",
       "      <th>3</th>\n",
       "      <td>52.759998</td>\n",
       "      <td>POLYGON ((413890.934 6197903.011, 413880.681 6...</td>\n",
       "    </tr>\n",
       "    <tr>\n",
       "      <th>4</th>\n",
       "      <td>49.250000</td>\n",
       "      <td>POLYGON ((413813.305 6197900.695, 413796.388 6...</td>\n",
       "    </tr>\n",
       "    <tr>\n",
       "      <th>...</th>\n",
       "      <td>...</td>\n",
       "      <td>...</td>\n",
       "    </tr>\n",
       "    <tr>\n",
       "      <th>61510</th>\n",
       "      <td>28.950000</td>\n",
       "      <td>POLYGON ((426443.327 6190128.740, 426453.956 6...</td>\n",
       "    </tr>\n",
       "    <tr>\n",
       "      <th>61511</th>\n",
       "      <td>29.072000</td>\n",
       "      <td>POLYGON ((426464.954 6190125.368, 426473.925 6...</td>\n",
       "    </tr>\n",
       "    <tr>\n",
       "      <th>61512</th>\n",
       "      <td>28.893000</td>\n",
       "      <td>POLYGON ((426457.318 6190159.780, 426446.996 6...</td>\n",
       "    </tr>\n",
       "    <tr>\n",
       "      <th>61513</th>\n",
       "      <td>28.750000</td>\n",
       "      <td>POLYGON ((426458.001 6190141.771, 426449.091 6...</td>\n",
       "    </tr>\n",
       "    <tr>\n",
       "      <th>61514</th>\n",
       "      <td>29.063000</td>\n",
       "      <td>POLYGON ((426437.797 6190058.993, 426439.591 6...</td>\n",
       "    </tr>\n",
       "  </tbody>\n",
       "</table>\n",
       "<p>61515 rows × 2 columns</p>\n",
       "</div>"
      ],
      "text/plain": [
       "          HEIGHT                                           geometry\n",
       "0      53.230999  POLYGON ((413903.742 6197943.405, 413915.337 6...\n",
       "1      52.737000  POLYGON ((413896.970 6197937.647, 413894.443 6...\n",
       "2      53.498001  POLYGON ((413923.773 6197933.140, 413931.476 6...\n",
       "3      52.759998  POLYGON ((413890.934 6197903.011, 413880.681 6...\n",
       "4      49.250000  POLYGON ((413813.305 6197900.695, 413796.388 6...\n",
       "...          ...                                                ...\n",
       "61510  28.950000  POLYGON ((426443.327 6190128.740, 426453.956 6...\n",
       "61511  29.072000  POLYGON ((426464.954 6190125.368, 426473.925 6...\n",
       "61512  28.893000  POLYGON ((426457.318 6190159.780, 426446.996 6...\n",
       "61513  28.750000  POLYGON ((426458.001 6190141.771, 426449.091 6...\n",
       "61514  29.063000  POLYGON ((426437.797 6190058.993, 426439.591 6...\n",
       "\n",
       "[61515 rows x 2 columns]"
      ]
     },
     "execution_count": 92,
     "metadata": {},
     "output_type": "execute_result"
    }
   ],
   "source": [
    "test = gpd.read_file(\"test_buildings/gg_buildings_clean.shp\")\n",
    "test"
   ]
  },
  {
   "cell_type": "code",
   "execution_count": 91,
   "id": "6568861a-30e0-460b-8aa7-4c72363ec4bb",
   "metadata": {},
   "outputs": [
    {
     "data": {
      "text/plain": [
       "Index(['HEIGHT', 'geometry'], dtype='object')"
      ]
     },
     "execution_count": 91,
     "metadata": {},
     "output_type": "execute_result"
    }
   ],
   "source": []
  },
  {
   "cell_type": "code",
   "execution_count": 108,
   "id": "34cba266-2a5f-4428-a9ff-45fc1a58c559",
   "metadata": {},
   "outputs": [
    {
     "data": {
      "text/html": [
       "<div>\n",
       "<style scoped>\n",
       "    .dataframe tbody tr th:only-of-type {\n",
       "        vertical-align: middle;\n",
       "    }\n",
       "\n",
       "    .dataframe tbody tr th {\n",
       "        vertical-align: top;\n",
       "    }\n",
       "\n",
       "    .dataframe thead th {\n",
       "        text-align: right;\n",
       "    }\n",
       "</style>\n",
       "<table border=\"1\" class=\"dataframe\">\n",
       "  <thead>\n",
       "    <tr style=\"text-align: right;\">\n",
       "      <th></th>\n",
       "      <th>HEIGHT</th>\n",
       "      <th>geometry</th>\n",
       "    </tr>\n",
       "  </thead>\n",
       "  <tbody>\n",
       "    <tr>\n",
       "      <th>0</th>\n",
       "      <td>53.230999</td>\n",
       "      <td>POLYGON ((413903.742 6197943.405, 413915.337 6...</td>\n",
       "    </tr>\n",
       "    <tr>\n",
       "      <th>1</th>\n",
       "      <td>52.737000</td>\n",
       "      <td>POLYGON ((413896.970 6197937.647, 413894.443 6...</td>\n",
       "    </tr>\n",
       "    <tr>\n",
       "      <th>2</th>\n",
       "      <td>53.498001</td>\n",
       "      <td>POLYGON ((413923.773 6197933.140, 413931.476 6...</td>\n",
       "    </tr>\n",
       "    <tr>\n",
       "      <th>3</th>\n",
       "      <td>52.759998</td>\n",
       "      <td>POLYGON ((413890.934 6197903.011, 413880.681 6...</td>\n",
       "    </tr>\n",
       "    <tr>\n",
       "      <th>4</th>\n",
       "      <td>49.250000</td>\n",
       "      <td>POLYGON ((413813.305 6197900.695, 413796.388 6...</td>\n",
       "    </tr>\n",
       "    <tr>\n",
       "      <th>...</th>\n",
       "      <td>...</td>\n",
       "      <td>...</td>\n",
       "    </tr>\n",
       "    <tr>\n",
       "      <th>61510</th>\n",
       "      <td>28.950000</td>\n",
       "      <td>POLYGON ((426443.327 6190128.740, 426453.956 6...</td>\n",
       "    </tr>\n",
       "    <tr>\n",
       "      <th>61511</th>\n",
       "      <td>29.072000</td>\n",
       "      <td>POLYGON ((426464.954 6190125.368, 426473.925 6...</td>\n",
       "    </tr>\n",
       "    <tr>\n",
       "      <th>61512</th>\n",
       "      <td>28.893000</td>\n",
       "      <td>POLYGON ((426457.318 6190159.780, 426446.996 6...</td>\n",
       "    </tr>\n",
       "    <tr>\n",
       "      <th>61513</th>\n",
       "      <td>28.750000</td>\n",
       "      <td>POLYGON ((426458.001 6190141.771, 426449.091 6...</td>\n",
       "    </tr>\n",
       "    <tr>\n",
       "      <th>61514</th>\n",
       "      <td>29.063000</td>\n",
       "      <td>POLYGON ((426437.797 6190058.993, 426439.591 6...</td>\n",
       "    </tr>\n",
       "  </tbody>\n",
       "</table>\n",
       "<p>61515 rows × 2 columns</p>\n",
       "</div>"
      ],
      "text/plain": [
       "          HEIGHT                                           geometry\n",
       "0      53.230999  POLYGON ((413903.742 6197943.405, 413915.337 6...\n",
       "1      52.737000  POLYGON ((413896.970 6197937.647, 413894.443 6...\n",
       "2      53.498001  POLYGON ((413923.773 6197933.140, 413931.476 6...\n",
       "3      52.759998  POLYGON ((413890.934 6197903.011, 413880.681 6...\n",
       "4      49.250000  POLYGON ((413813.305 6197900.695, 413796.388 6...\n",
       "...          ...                                                ...\n",
       "61510  28.950000  POLYGON ((426443.327 6190128.740, 426453.956 6...\n",
       "61511  29.072000  POLYGON ((426464.954 6190125.368, 426473.925 6...\n",
       "61512  28.893000  POLYGON ((426457.318 6190159.780, 426446.996 6...\n",
       "61513  28.750000  POLYGON ((426458.001 6190141.771, 426449.091 6...\n",
       "61514  29.063000  POLYGON ((426437.797 6190058.993, 426439.591 6...\n",
       "\n",
       "[61515 rows x 2 columns]"
      ]
     },
     "execution_count": 108,
     "metadata": {},
     "output_type": "execute_result"
    }
   ],
   "source": [
    "gpd.read_file(\"resources/org/noise_planet/noisemodelling/wps/gg_buildings_clean.geojson\")"
   ]
  },
  {
   "cell_type": "code",
   "execution_count": null,
   "id": "4b1a8a66-ba73-4c26-8ca3-1628394b92e5",
   "metadata": {},
   "outputs": [],
   "source": []
  }
 ],
 "metadata": {
  "kernelspec": {
   "display_name": "Python 3 (ipykernel)",
   "language": "python",
   "name": "python3"
  },
  "language_info": {
   "codemirror_mode": {
    "name": "ipython",
    "version": 3
   },
   "file_extension": ".py",
   "mimetype": "text/x-python",
   "name": "python",
   "nbconvert_exporter": "python",
   "pygments_lexer": "ipython3",
   "version": "3.10.13"
  }
 },
 "nbformat": 4,
 "nbformat_minor": 5
}
